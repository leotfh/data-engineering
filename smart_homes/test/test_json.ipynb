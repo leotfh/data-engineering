{
 "cells": [
  {
   "cell_type": "code",
   "execution_count": 5,
   "metadata": {},
   "outputs": [],
   "source": [
    "import json\n",
    "\n",
    "# Define the header and rows\n",
    "\n",
    "data = [\n",
    "    \"sensor_id\",\"timestamp\",\"temperature\",\"humidity\",\n",
    "    [1,'2025-02-22T21:11:33.121623',25.19,47.35],\n",
    "    [1,'2025-02-22T21:11:34.121623',20.20,76.34],\n",
    "]\n",
    "\n",
    "date = {\n",
    "     \"sensor_id\" : 2,\n",
    "    \"timestamp\" : \"2025-02-22T21:11:33.121623\",\n",
    "    \"motion_detected\" : True,\n",
    "}"
   ]
  },
  {
   "cell_type": "code",
   "execution_count": 6,
   "metadata": {},
   "outputs": [],
   "source": [
    "# Specify the filename\n",
    "filename = \"test_random_json.json\""
   ]
  },
  {
   "cell_type": "code",
   "execution_count": 7,
   "metadata": {},
   "outputs": [
    {
     "ename": "NameError",
     "evalue": "name 'date' is not defined",
     "output_type": "error",
     "traceback": [
      "\u001b[31m---------------------------------------------------------------------------\u001b[39m",
      "\u001b[31mNameError\u001b[39m                                 Traceback (most recent call last)",
      "\u001b[36mCell\u001b[39m\u001b[36m \u001b[39m\u001b[32mIn[7]\u001b[39m\u001b[32m, line 5\u001b[39m\n\u001b[32m      1\u001b[39m \u001b[38;5;66;03m# Open the file in write mode\u001b[39;00m\n\u001b[32m      3\u001b[39m \u001b[38;5;28;01mwith\u001b[39;00m \u001b[38;5;28mopen\u001b[39m(filename, mode=\u001b[33m'\u001b[39m\u001b[33mw\u001b[39m\u001b[33m'\u001b[39m, newline=\u001b[33m'\u001b[39m\u001b[33m'\u001b[39m) \u001b[38;5;28;01mas\u001b[39;00m file:\n\u001b[32m      4\u001b[39m     \u001b[38;5;66;03m# writer = csv.writer(file)\u001b[39;00m\n\u001b[32m----> \u001b[39m\u001b[32m5\u001b[39m     json.dump(\u001b[43mdate\u001b[49m, json_file, indent=\u001b[32m4\u001b[39m)\n\u001b[32m      7\u001b[39m     \u001b[38;5;66;03m# Write all data at once\u001b[39;00m\n\u001b[32m      8\u001b[39m     \u001b[38;5;66;03m#writer.writerows(data)\u001b[39;00m\n\u001b[32m      9\u001b[39m \n\u001b[32m     10\u001b[39m \u001b[38;5;66;03m# Close the file \u001b[39;00m\n\u001b[32m     11\u001b[39m file.close()\n",
      "\u001b[31mNameError\u001b[39m: name 'date' is not defined"
     ]
    }
   ],
   "source": [
    "# Open the file in write mode\n",
    "\n",
    "with open(filename, mode='w', newline='') as file:\n",
    "    # writer = csv.writer(file)\n",
    "    json.dump(data, json_file, indent=4)\n",
    "\n",
    "    # Write all data at once\n",
    "    #writer.writerows(data)\n",
    "\n",
    "# Close the file \n",
    "file.close()\n",
    "\n",
    "print(f\"JSON file '{filename}' created successfully.\")"
   ]
  },
  {
   "cell_type": "code",
   "execution_count": null,
   "metadata": {},
   "outputs": [],
   "source": []
  },
  {
   "cell_type": "code",
   "execution_count": null,
   "metadata": {},
   "outputs": [],
   "source": []
  }
 ],
 "metadata": {
  "kernelspec": {
   "display_name": "Python 3 (ipykernel)",
   "language": "python",
   "name": "python3"
  },
  "language_info": {
   "codemirror_mode": {
    "name": "ipython",
    "version": 3
   },
   "file_extension": ".py",
   "mimetype": "text/x-python",
   "name": "python",
   "nbconvert_exporter": "python",
   "pygments_lexer": "ipython3",
   "version": "3.13.2"
  }
 },
 "nbformat": 4,
 "nbformat_minor": 4
}
