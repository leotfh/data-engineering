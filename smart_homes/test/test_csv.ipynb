{
 "cells": [
  {
   "cell_type": "code",
   "execution_count": 4,
   "metadata": {},
   "outputs": [],
   "source": [
    "import csv\n",
    "\n",
    "# Define the header and rows\n",
    "\n",
    "data = [\n",
    "    ['sensor_id','timestamp','temperature','humidity'],\n",
    "    [1,'2025-02-22T21:11:33.121623',25.19,47.35],\n",
    "    [1,'2025-02-22T21:11:34.121623',20.20,76.34],\n",
    "]"
   ]
  },
  {
   "cell_type": "code",
   "execution_count": 5,
   "metadata": {},
   "outputs": [],
   "source": [
    "# Specify the filename\n",
    "filename = \"test_csv.csv\""
   ]
  },
  {
   "cell_type": "code",
   "execution_count": 6,
   "metadata": {},
   "outputs": [
    {
     "name": "stdout",
     "output_type": "stream",
     "text": [
      "CSV file 'test_csv.csv' created successfully.\n"
     ]
    }
   ],
   "source": [
    "# Open the file in write mode\n",
    "\n",
    "with open(filename, mode='w', newline='') as file:\n",
    "    writer = csv.writer(file)\n",
    "\n",
    "    # Write all data at once\n",
    "    writer.writerows(data)\n",
    "\n",
    "# Close the file \n",
    "file.close()\n",
    "\n",
    "print(f\"CSV file '{filename}' created successfully.\")"
   ]
  }
 ],
 "metadata": {
  "kernelspec": {
   "display_name": "Python 3",
   "language": "python",
   "name": "python3"
  },
  "language_info": {
   "codemirror_mode": {
    "name": "ipython",
    "version": 3
   },
   "file_extension": ".py",
   "mimetype": "text/x-python",
   "name": "python",
   "nbconvert_exporter": "python",
   "pygments_lexer": "ipython3",
   "version": "3.12.9"
  }
 },
 "nbformat": 4,
 "nbformat_minor": 2
}
