{
 "cells": [
  {
   "cell_type": "code",
   "execution_count": 5,
   "id": "c26bea45-0be6-40eb-b869-03802bbe1ea0",
   "metadata": {},
   "outputs": [
    {
     "name": "stdout",
     "output_type": "stream",
     "text": [
      "XML data written to test.xml\n"
     ]
    }
   ],
   "source": [
    "import xml.etree.ElementTree as ET\n",
    "from xml.dom import minidom\n",
    "\n",
    "# Create the root element\n",
    "root = ET.Element(\"AirQualityReadings\")\n",
    "\n",
    "# Define data\n",
    "readings_data = [\n",
    "    {\"sensor_id\": \"3\", \"timestamp\": \"2022-01-01T00:00:00\", \"pm2_5\": \"10\", \"pm10\": \"20\", \"so2\": \"30\", \"no2\": \"40\"},\n",
    "    {\"sensor_id\": \"3\", \"timestamp\": \"2022-01-01T00:00:00\", \"pm2_5\": \"10\", \"pm10\": \"20\", \"so2\": \"30\", \"no2\": \"40\"}\n",
    "]\n",
    "\n",
    "# Populate the root element with data\n",
    "for reading in readings_data:\n",
    "    reading_element = ET.SubElement(root, \"Reading\")\n",
    "    for key, value in reading.items():\n",
    "        child = ET.SubElement(reading_element, key)\n",
    "        child.text = value\n",
    "\n",
    "# Convert the element tree to a string\n",
    "xml_str = ET.tostring(root, encoding=\"unicode\")\n",
    "\n",
    "# Use minidom to prettify the XML string\n",
    "pretty_xml_str = minidom.parseString(xml_str).toprettyxml(indent=\"   \")\n",
    "\n",
    "filename = \"test.xml\"\n",
    "with open(filename, \"w\") as f:\n",
    "    f.write(pretty_xml_str)\n",
    "\n",
    "print(f\"XML data written to {filename}\")"
   ]
  },
  {
   "cell_type": "code",
   "execution_count": null,
   "id": "70e7891f-72b7-4967-a455-75939d9b62a4",
   "metadata": {},
   "outputs": [],
   "source": []
  },
  {
   "cell_type": "code",
   "execution_count": null,
   "id": "aefb2e85-d5d6-4f7a-8876-f3a0dbda9685",
   "metadata": {},
   "outputs": [],
   "source": []
  }
 ],
 "metadata": {
  "kernelspec": {
   "display_name": "Python 3 (ipykernel)",
   "language": "python",
   "name": "python3"
  },
  "language_info": {
   "codemirror_mode": {
    "name": "ipython",
    "version": 3
   },
   "file_extension": ".py",
   "mimetype": "text/x-python",
   "name": "python",
   "nbconvert_exporter": "python",
   "pygments_lexer": "ipython3",
   "version": "3.13.2"
  }
 },
 "nbformat": 4,
 "nbformat_minor": 5
}
