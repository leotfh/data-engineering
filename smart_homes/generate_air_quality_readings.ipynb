{
 "cells": [
  {
   "cell_type": "code",
   "execution_count": 12,
   "id": "b768b19f",
   "metadata": {},
   "outputs": [],
   "source": [
    "import os\n",
    "import json\n",
    "import random\n",
    "import time\n",
    "from datetime import datetime\n",
    "import xml.etree.ElementTree as ET\n",
    "from xml.dom import minidom\n",
    "\n",
    "# Create output directory\n",
    "output_dir = \"sensor_data/xml\"\n",
    "os.makedirs(output_dir, exist_ok=True)\n"
   ]
  },
  {
   "cell_type": "code",
   "execution_count": 13,
   "id": "606bceaf",
   "metadata": {},
   "outputs": [],
   "source": [
    "\n",
    "# Define data\n",
    "# readings_data = [\n",
    "#     {\"sensor_id\": \"3\", \"timestamp\": \"2022-01-01T00:00:00\", \"pm2_5\": \"10\", \"pm10\": \"20\", \"so2\": \"30\", \"no2\": \"40\"},\n",
    "#     {\"sensor_id\": \"3\", \"timestamp\": \"2022-01-01T00:00:00\", \"pm2_5\": \"10\", \"pm10\": \"20\", \"so2\": \"30\", \"no2\": \"40\"}\n",
    "# ]\n",
    "\n",
    "# Function to generate random air_quality detection data\n",
    "def generate_air_quality_detection_data(sensor_id=2):\n",
    "    return {\n",
    "        \"sensor_id\": sensor_id,\n",
    "        \"timestamp\": datetime.now().isoformat(),\n",
    "        \"pm2_5\": round(random.uniform(100, 500), 2),\n",
    "        \"pm10\": round(random.uniform(100, 500), 2),\n",
    "        \"so2\": round(random.uniform(100, 200), 2),\n",
    "        \"no2\": round(random.uniform(100, 300), 2),\n",
    "    }\n",
    "\n",
    "# # Function to save data as JSON\n",
    "# def save_air_quality_json(filename, data):\n",
    "#     filepath = os.path.join(output_dir, filename)\n",
    "#     with open(filepath, \"w\") as file:\n",
    "#         json.dump(data, file, indent=4)\n",
    "#         file.write(\"\\n\")\n",
    "#     print(f\"Saved air_quality Detection JSON: {filepath}\")\n"
   ]
  },
  {
   "cell_type": "code",
   "execution_count": 14,
   "id": "6450eb89",
   "metadata": {},
   "outputs": [
    {
     "name": "stdout",
     "output_type": "stream",
     "text": [
      "{'sensor_id': 2, 'timestamp': '2025-03-25T14:08:25.179781', 'pm2_5': 467.67, 'pm10': 278.85, 'so2': 126.33, 'no2': 118.69}\n",
      "{'sensor_id': 2, 'timestamp': '2025-03-25T14:08:26.180203', 'pm2_5': 498.36, 'pm10': 406.27, 'so2': 105.58, 'no2': 263.38}\n",
      "{'sensor_id': 2, 'timestamp': '2025-03-25T14:08:27.180845', 'pm2_5': 177.41, 'pm10': 425.86, 'so2': 140.52, 'no2': 205.82}\n",
      "{'sensor_id': 2, 'timestamp': '2025-03-25T14:08:28.181472', 'pm2_5': 362.36, 'pm10': 490.76, 'so2': 182.49, 'no2': 244.8}\n",
      "{'sensor_id': 2, 'timestamp': '2025-03-25T14:08:29.182110', 'pm2_5': 322.58, 'pm10': 200.22, 'so2': 124.11, 'no2': 146.15}\n"
     ]
    }
   ],
   "source": [
    "\n",
    "# User input for number of times to run\n",
    "num_iterations = int(input(\"Enter number of air_quality detection readings to generate: \"))\n",
    "\n",
    "# Generate multiple batches of air_quality data\n",
    "movements = []\n",
    "for i in range(num_iterations):\n",
    "    aq_data = generate_air_quality_detection_data()\n",
    "    print(aq_data)\n",
    "    movements.append(aq_data)\n",
    "    time.sleep(1)  # Simulate real-time data generation\n",
    "\n",
    "# # Save all motion data as a single JSON array\n",
    "# save_motion_json(\"motion_detection.json\", movements)"
   ]
  },
  {
   "cell_type": "code",
   "execution_count": null,
   "id": "d4717028",
   "metadata": {},
   "outputs": [
    {
     "name": "stdout",
     "output_type": "stream",
     "text": [
      "Motion data saved to XML: sensor_data/xml/air_quality_data.xml\n"
     ]
    }
   ],
   "source": [
    "# Create the root element for a single motion data\n",
    "air_quality_root = ET.Element(\"AirQuality\")\n",
    "\n",
    "# Populate the root element with data from motion_data\n",
    "for key, value in movements.items():\n",
    "    child = ET.SubElement(air_quality_root, key)\n",
    "    child.text = str(value)\n",
    "\n",
    "# Convert the element tree to a string\n",
    "air_quality_xml_str = ET.tostring(air_quality_root, encoding=\"unicode\")\n",
    "\n",
    "# Use minidom to prettify the XML string\n",
    "pretty_air_quality_xml_str = minidom.parseString(air_quality_xml_str).toprettyxml(indent=\"   \")\n",
    "\n",
    "# Save the XML to a file\n",
    "air_quality_filename = os.path.join(output_dir, \"air_quality_data.xml\")\n",
    "with open(air_quality_filename, \"w\") as f:\n",
    "    f.write(pretty_air_quality_xml_str)\n",
    "\n",
    "print(f\"Motion data saved to XML: {air_quality_filename}\")"
   ]
  },
  {
   "cell_type": "code",
   "execution_count": null,
   "id": "13dfe962-8414-4cb1-8e6f-7f48ce8ccef5",
   "metadata": {},
   "outputs": [
    {
     "data": {
      "text/plain": [
       "dict_items([('sensor_id', 2), ('timestamp', '2025-03-25T14:08:29.182110'), ('pm2_5', 322.58), ('pm10', 200.22), ('so2', 124.11), ('no2', 146.15)])"
      ]
     },
     "execution_count": 17,
     "metadata": {},
     "output_type": "execute_result"
    }
   ],
   "source": [
    "movements.items() "
   ]
  },
  {
   "cell_type": "code",
   "execution_count": null,
   "id": "fec0977f-05a1-43f0-b1eb-04cea1d14a14",
   "metadata": {},
   "outputs": [],
   "source": []
  }
 ],
 "metadata": {
  "kernelspec": {
   "display_name": "Python 3 (ipykernel)",
   "language": "python",
   "name": "python3"
  },
  "language_info": {
   "codemirror_mode": {
    "name": "ipython",
    "version": 3
   },
   "file_extension": ".py",
   "mimetype": "text/x-python",
   "name": "python",
   "nbconvert_exporter": "python",
   "pygments_lexer": "ipython3",
   "version": "3.13.2"
  }
 },
 "nbformat": 4,
 "nbformat_minor": 5
}
