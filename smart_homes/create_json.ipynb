{
 "cells": [
  {
   "cell_type": "code",
   "execution_count": 2,
   "id": "cf133491-09b6-4879-ac69-4fee51ccfa6f",
   "metadata": {},
   "outputs": [
    {
     "name": "stdout",
     "output_type": "stream",
     "text": [
      "JSON data written to test_json.json\n"
     ]
    }
   ],
   "source": [
    "import json\n",
    "\n",
    "# Define the date\n",
    "date = {\n",
    "     \"sensor_id\" : 2,\n",
    "    \"timestamp\" : \"2025-02-22T21:11:33.121623\",\n",
    "    \"motion_detected\" : True,\n",
    "}\n",
    "\n",
    "# Specify the filename \n",
    "filename = \"test_json.json\"\n",
    "\n",
    "# Open the file in write mode\n",
    "with open(filename, \"w\") as json_file:\n",
    "    # Write the data to the file\n",
    "    json.dump(date, json_file, indent=4)\n",
    "\n",
    "# close the file\n",
    "json_file.close()\n",
    "\n",
    "print(f'JSON data written to {filename}')"
   ]
  },
  {
   "cell_type": "code",
   "execution_count": null,
   "id": "d192533f-e4c9-4909-8c09-4c2b70b522e5",
   "metadata": {},
   "outputs": [],
   "source": []
  },
  {
   "cell_type": "code",
   "execution_count": null,
   "id": "7b5f3816-bb41-44df-ac31-356c4f2a18a7",
   "metadata": {},
   "outputs": [],
   "source": []
  }
 ],
 "metadata": {
  "kernelspec": {
   "display_name": "Python 3 (ipykernel)",
   "language": "python",
   "name": "python3"
  },
  "language_info": {
   "codemirror_mode": {
    "name": "ipython",
    "version": 3
   },
   "file_extension": ".py",
   "mimetype": "text/x-python",
   "name": "python",
   "nbconvert_exporter": "python",
   "pygments_lexer": "ipython3",
   "version": "3.13.2"
  }
 },
 "nbformat": 4,
 "nbformat_minor": 5
}
