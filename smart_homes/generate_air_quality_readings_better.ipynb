{
 "cells": [
  {
   "cell_type": "code",
   "execution_count": 5,
   "id": "b768b19f",
   "metadata": {},
   "outputs": [],
   "source": [
    "import os\n",
    "import random\n",
    "import time\n",
    "from datetime import datetime\n",
    "import xml.etree.ElementTree as ET\n",
    "from xml.dom import minidom\n",
    "\n",
    "import pandas as pd\n",
    "from sklearn.linear_model import LinearRegression\n",
    "\n",
    "# Create output directory\n",
    "output_dir = \"sensor_data/xml\"\n",
    "os.makedirs(output_dir, exist_ok=True)\n"
   ]
  },
  {
   "cell_type": "code",
   "execution_count": 6,
   "id": "606bceaf",
   "metadata": {},
   "outputs": [],
   "source": [
    "# Function to generate random air quality data\n",
    "def generate_air_quality_data(sensor_id=3):\n",
    "    return {\n",
    "        \"sensor_id\": sensor_id,\n",
    "        \"timestamp\": datetime.now().isoformat(),\n",
    "        \"pm2_5\": round(random.uniform(0, 250), 2),\n",
    "        \"pm10\": round(random.uniform(0, 500), 2),\n",
    "        \"so2\": round(random.uniform(0, 300), 2),\n",
    "        \"no2\": round(random.uniform(0, 500), 2) if random.random() > 0.2 else None\n",
    "    }\n",
    "\n",
    "# Function to save data as XML\n",
    "def save_air_quality_xml(filename, data):\n",
    "    root = ET.Element(\"AirQualityReadings\")\n",
    "    for reading in data:\n",
    "        reading_elem = ET.SubElement(root, \"Reading\")\n",
    "        for key, value in reading.items():\n",
    "            elem = ET.SubElement(reading_elem, key)\n",
    "            elem.text = str(value)\n",
    "    # Convert to string and pretty-print\n",
    "    rough_string = ET.tostring(root, 'utf-8')\n",
    "    reparsed = minidom.parseString(rough_string)\n",
    "    pretty_xml = reparsed.toprettyxml(indent=\"  \")\n",
    "\n",
    "    # Save to file\n",
    "    filepath = os.path.join(output_dir, filename)\n",
    "    with open(filepath, \"w\", encoding=\"utf-8\") as f:\n",
    "        f.write(pretty_xml)\n",
    "\n",
    "    print(f\"Saved Air Quality XML: {filepath}\")\n"
   ]
  },
  {
   "cell_type": "code",
   "execution_count": 8,
   "id": "6450eb89",
   "metadata": {},
   "outputs": [
    {
     "name": "stdin",
     "output_type": "stream",
     "text": [
      "Enter number of air quality readings to generate:  50\n"
     ]
    },
    {
     "name": "stdout",
     "output_type": "stream",
     "text": [
      "{'sensor_id': 3, 'timestamp': '2025-03-31T15:36:34.810146', 'pm2_5': 198.53, 'pm10': 90.65, 'so2': 1.51, 'no2': None}\n",
      "{'sensor_id': 3, 'timestamp': '2025-03-31T15:36:34.810448', 'pm2_5': 110.13, 'pm10': 167.37, 'so2': 7.56, 'no2': 304.87}\n",
      "{'sensor_id': 3, 'timestamp': '2025-03-31T15:36:34.810532', 'pm2_5': 66.41, 'pm10': 369.22, 'so2': 59.97, 'no2': 261.45}\n",
      "{'sensor_id': 3, 'timestamp': '2025-03-31T15:36:34.810588', 'pm2_5': 61.71, 'pm10': 453.01, 'so2': 54.19, 'no2': None}\n",
      "{'sensor_id': 3, 'timestamp': '2025-03-31T15:36:34.810635', 'pm2_5': 13.89, 'pm10': 229.91, 'so2': 112.11, 'no2': 460.54}\n",
      "{'sensor_id': 3, 'timestamp': '2025-03-31T15:36:34.810690', 'pm2_5': 29.93, 'pm10': 278.6, 'so2': 267.75, 'no2': None}\n",
      "{'sensor_id': 3, 'timestamp': '2025-03-31T15:36:34.810736', 'pm2_5': 149.39, 'pm10': 485.82, 'so2': 197.94, 'no2': 137.48}\n",
      "{'sensor_id': 3, 'timestamp': '2025-03-31T15:36:34.810784', 'pm2_5': 145.3, 'pm10': 156.62, 'so2': 36.38, 'no2': 123.52}\n",
      "{'sensor_id': 3, 'timestamp': '2025-03-31T15:36:34.810828', 'pm2_5': 227.56, 'pm10': 318.16, 'so2': 26.07, 'no2': 426.12}\n",
      "{'sensor_id': 3, 'timestamp': '2025-03-31T15:36:34.810871', 'pm2_5': 83.62, 'pm10': 82.3, 'so2': 264.94, 'no2': 476.58}\n",
      "{'sensor_id': 3, 'timestamp': '2025-03-31T15:36:34.810916', 'pm2_5': 222.96, 'pm10': 391.32, 'so2': 256.69, 'no2': 170.73}\n",
      "{'sensor_id': 3, 'timestamp': '2025-03-31T15:36:34.810959', 'pm2_5': 60.43, 'pm10': 446.25, 'so2': 98.97, 'no2': None}\n",
      "{'sensor_id': 3, 'timestamp': '2025-03-31T15:36:34.811001', 'pm2_5': 200.89, 'pm10': 178.11, 'so2': 265.85, 'no2': None}\n",
      "{'sensor_id': 3, 'timestamp': '2025-03-31T15:36:34.811042', 'pm2_5': 146.59, 'pm10': 208.46, 'so2': 242.5, 'no2': None}\n",
      "{'sensor_id': 3, 'timestamp': '2025-03-31T15:36:34.811083', 'pm2_5': 152.29, 'pm10': 308.9, 'so2': 121.18, 'no2': 435.08}\n",
      "{'sensor_id': 3, 'timestamp': '2025-03-31T15:36:34.811129', 'pm2_5': 246.7, 'pm10': 288.86, 'so2': 287.94, 'no2': 311.18}\n",
      "{'sensor_id': 3, 'timestamp': '2025-03-31T15:36:34.811172', 'pm2_5': 101.41, 'pm10': 224.72, 'so2': 249.3, 'no2': 22.59}\n",
      "{'sensor_id': 3, 'timestamp': '2025-03-31T15:36:34.811214', 'pm2_5': 80.07, 'pm10': 334.59, 'so2': 244.21, 'no2': 317.84}\n",
      "{'sensor_id': 3, 'timestamp': '2025-03-31T15:36:34.811257', 'pm2_5': 112.89, 'pm10': 23.19, 'so2': 221.06, 'no2': 281.73}\n",
      "{'sensor_id': 3, 'timestamp': '2025-03-31T15:36:34.811300', 'pm2_5': 226.6, 'pm10': 322.22, 'so2': 268.89, 'no2': 13.5}\n",
      "{'sensor_id': 3, 'timestamp': '2025-03-31T15:36:34.811343', 'pm2_5': 143.63, 'pm10': 42.45, 'so2': 24.06, 'no2': 389.03}\n",
      "{'sensor_id': 3, 'timestamp': '2025-03-31T15:36:34.811385', 'pm2_5': 136.71, 'pm10': 253.48, 'so2': 147.77, 'no2': 242.79}\n",
      "{'sensor_id': 3, 'timestamp': '2025-03-31T15:36:34.811427', 'pm2_5': 173.39, 'pm10': 416.04, 'so2': 148.13, 'no2': 401.09}\n",
      "{'sensor_id': 3, 'timestamp': '2025-03-31T15:36:34.811468', 'pm2_5': 50.49, 'pm10': 311.7, 'so2': 192.37, 'no2': None}\n",
      "{'sensor_id': 3, 'timestamp': '2025-03-31T15:36:34.811508', 'pm2_5': 240.25, 'pm10': 441.97, 'so2': 273.84, 'no2': 234.57}\n",
      "{'sensor_id': 3, 'timestamp': '2025-03-31T15:36:34.811553', 'pm2_5': 75.23, 'pm10': 205.33, 'so2': 175.7, 'no2': 186.96}\n",
      "{'sensor_id': 3, 'timestamp': '2025-03-31T15:36:34.811595', 'pm2_5': 232.38, 'pm10': 393.76, 'so2': 1.53, 'no2': None}\n",
      "{'sensor_id': 3, 'timestamp': '2025-03-31T15:36:34.811639', 'pm2_5': 177.24, 'pm10': 0.14, 'so2': 26.27, 'no2': None}\n",
      "{'sensor_id': 3, 'timestamp': '2025-03-31T15:36:34.811685', 'pm2_5': 19.11, 'pm10': 470.94, 'so2': 255.71, 'no2': None}\n",
      "{'sensor_id': 3, 'timestamp': '2025-03-31T15:36:34.811727', 'pm2_5': 236.25, 'pm10': 477.7, 'so2': 156.27, 'no2': 411.03}\n",
      "{'sensor_id': 3, 'timestamp': '2025-03-31T15:36:34.811771', 'pm2_5': 92.35, 'pm10': 336.2, 'so2': 192.13, 'no2': 313.24}\n",
      "{'sensor_id': 3, 'timestamp': '2025-03-31T15:36:34.811813', 'pm2_5': 83.31, 'pm10': 461.53, 'so2': 222.7, 'no2': None}\n",
      "{'sensor_id': 3, 'timestamp': '2025-03-31T15:36:34.811853', 'pm2_5': 76.04, 'pm10': 60.62, 'so2': 207.77, 'no2': 12.46}\n",
      "{'sensor_id': 3, 'timestamp': '2025-03-31T15:36:34.811896', 'pm2_5': 125.96, 'pm10': 352.31, 'so2': 283.0, 'no2': 227.3}\n",
      "{'sensor_id': 3, 'timestamp': '2025-03-31T15:36:34.811942', 'pm2_5': 77.56, 'pm10': 69.37, 'so2': 277.01, 'no2': 343.77}\n",
      "{'sensor_id': 3, 'timestamp': '2025-03-31T15:36:34.811984', 'pm2_5': 1.06, 'pm10': 119.14, 'so2': 58.38, 'no2': 122.22}\n",
      "{'sensor_id': 3, 'timestamp': '2025-03-31T15:36:34.812026', 'pm2_5': 176.43, 'pm10': 387.39, 'so2': 295.88, 'no2': 158.68}\n",
      "{'sensor_id': 3, 'timestamp': '2025-03-31T15:36:34.812068', 'pm2_5': 236.7, 'pm10': 202.74, 'so2': 186.68, 'no2': 407.9}\n",
      "{'sensor_id': 3, 'timestamp': '2025-03-31T15:36:34.812109', 'pm2_5': 71.67, 'pm10': 164.22, 'so2': 115.88, 'no2': 357.14}\n",
      "{'sensor_id': 3, 'timestamp': '2025-03-31T15:36:34.812152', 'pm2_5': 87.42, 'pm10': 298.95, 'so2': 147.01, 'no2': 380.24}\n",
      "{'sensor_id': 3, 'timestamp': '2025-03-31T15:36:34.812195', 'pm2_5': 26.37, 'pm10': 211.9, 'so2': 199.72, 'no2': None}\n",
      "{'sensor_id': 3, 'timestamp': '2025-03-31T15:36:34.812235', 'pm2_5': 135.45, 'pm10': 278.38, 'so2': 100.77, 'no2': 68.62}\n",
      "{'sensor_id': 3, 'timestamp': '2025-03-31T15:36:34.812277', 'pm2_5': 5.75, 'pm10': 353.93, 'so2': 129.71, 'no2': 440.06}\n",
      "{'sensor_id': 3, 'timestamp': '2025-03-31T15:36:34.812319', 'pm2_5': 170.26, 'pm10': 457.98, 'so2': 97.17, 'no2': 329.57}\n",
      "{'sensor_id': 3, 'timestamp': '2025-03-31T15:36:34.812361', 'pm2_5': 103.63, 'pm10': 179.5, 'so2': 182.38, 'no2': 452.94}\n",
      "{'sensor_id': 3, 'timestamp': '2025-03-31T15:36:34.812401', 'pm2_5': 175.16, 'pm10': 376.31, 'so2': 49.85, 'no2': 225.7}\n",
      "{'sensor_id': 3, 'timestamp': '2025-03-31T15:36:34.812440', 'pm2_5': 109.81, 'pm10': 88.91, 'so2': 110.56, 'no2': 497.67}\n",
      "{'sensor_id': 3, 'timestamp': '2025-03-31T15:36:34.812479', 'pm2_5': 180.34, 'pm10': 141.63, 'so2': 175.91, 'no2': 155.54}\n",
      "{'sensor_id': 3, 'timestamp': '2025-03-31T15:36:34.812516', 'pm2_5': 101.63, 'pm10': 159.5, 'so2': 126.52, 'no2': 180.61}\n",
      "{'sensor_id': 3, 'timestamp': '2025-03-31T15:36:34.812558', 'pm2_5': 113.75, 'pm10': 406.22, 'so2': 57.04, 'no2': 278.48}\n",
      "Saved Air Quality XML: sensor_data/xml/air_quality_readings.xml\n"
     ]
    }
   ],
   "source": [
    "# User input for number of times to run\n",
    "num_iterations = int(input(\"Enter number of air quality readings to generate: \"))\n",
    "\n",
    "# Generate multiple batches of air quality data\n",
    "readings = []\n",
    "for i in range(num_iterations):\n",
    "    air_quality_data = generate_air_quality_data()\n",
    "    print(air_quality_data)\n",
    "    readings.append(air_quality_data)\n",
    "    # time.sleep(1)  # Simulate real-time data generation\n",
    "\n",
    "# Save all air quality data as a single XML file\n",
    "save_air_quality_xml(\"air_quality_readings.xml\", readings)\n"
   ]
  },
  {
   "cell_type": "code",
   "execution_count": 15,
   "id": "27baa9d1-edc1-4e2c-8b33-2f37c6672522",
   "metadata": {},
   "outputs": [
    {
     "name": "stdout",
     "output_type": "stream",
     "text": [
      "Saved Air Quality XML: sensor_data/xml/air_quality_data.xml\n"
     ]
    }
   ],
   "source": [
    "df = pd.DataFrame(readings)\n",
    "\n",
    "df = df.drop_duplicates()\n",
    "\n",
    "save_air_quality_xml(\"air_quality_data.xml\", df.to_dict(orient=\"records\"))"
   ]
  },
  {
   "cell_type": "code",
   "execution_count": 19,
   "id": "16dd5560-8579-4c4b-9d3f-ca34e612f21e",
   "metadata": {},
   "outputs": [],
   "source": [
    "def impute_missing_values(df, strategy='mean'): \n",
    "    if strategy == 'mean':\n",
    "        df['no2'] = df['no2'].fillna(df['no2'].mean()).round()\n",
    "    elif strategy == 'median':\n",
    "        df['no2'] = df['no2'].fillna(df['no2'].median()).round()\n",
    "    elif strategy == 'mode':\n",
    "        df['no2'] = df['no2'].fillna(df['no2'].mode()).round()\n",
    "    elif strategy == 'regression':\n",
    "        hum_train = df.dropna(subset=['no2'])\n",
    "        model = LinearRegression()\n",
    "        model.fit(hum_train[['temperature']], hum_train['no2'])\n",
    "        hum_missing = df[df['no2'].isnull()]\n",
    "        df.loc[df['no2'].isnull(), 'no2'] = model.predict(hum_missing[['temperature']])\n",
    "    return df"
   ]
  },
  {
   "cell_type": "code",
   "execution_count": 21,
   "id": "5f8b93de-d54f-4022-ad5b-5af50cad0af7",
   "metadata": {},
   "outputs": [
    {
     "name": "stdout",
     "output_type": "stream",
     "text": [
      "Saved Air Quality XML: sensor_data/xml/air_quality_data_imputed.xml\n"
     ]
    }
   ],
   "source": [
    "df = impute_missing_values(df, strategy='median')\n",
    "save_air_quality_xml(\"air_quality_data_imputed.xml\", df.to_dict(orient=\"records\"))"
   ]
  },
  {
   "cell_type": "code",
   "execution_count": null,
   "id": "46e7afbd-ac90-45ca-8db9-5b7e41ca9e2b",
   "metadata": {},
   "outputs": [],
   "source": []
  }
 ],
 "metadata": {
  "kernelspec": {
   "display_name": "Python 3 (ipykernel)",
   "language": "python",
   "name": "python3"
  },
  "language_info": {
   "codemirror_mode": {
    "name": "ipython",
    "version": 3
   },
   "file_extension": ".py",
   "mimetype": "text/x-python",
   "name": "python",
   "nbconvert_exporter": "python",
   "pygments_lexer": "ipython3",
   "version": "3.13.2"
  }
 },
 "nbformat": 4,
 "nbformat_minor": 5
}
