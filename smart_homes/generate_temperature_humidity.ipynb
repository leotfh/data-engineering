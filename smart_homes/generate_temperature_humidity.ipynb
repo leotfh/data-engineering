{
 "cells": [
  {
   "cell_type": "code",
   "execution_count": 1,
   "id": "126a7076",
   "metadata": {},
   "outputs": [],
   "source": [
    "\n",
    "import os, time, pandas as pd,random\n",
    "from datetime import datetime\n",
    "import json\n",
    "import pandas as pd\n",
    "\n",
    "from sklearn.linear_model import LinearRegression\n",
    "\n",
    "# Output directory\n",
    "output_dir = \"sensor_data/json\"\n",
    "os.makedirs(output_dir, exist_ok=True)\n",
    "\n",
    "# Define the headers for the CSV file related to customer transactions\n",
    "header = ['sensor_id', 'timestamp', 'temperature', 'humidity']\n"
   ]
  },
  {
   "cell_type": "code",
   "execution_count": 2,
   "id": "768704b7",
   "metadata": {},
   "outputs": [],
   "source": [
    "\n",
    "# Generate random temperature and humidity data\n",
    "def generate_temperature_humidity_data(sensor_id=1):\n",
    "    temperature = round(random.uniform(18, 30), 2)\n",
    "    return {\n",
    "        \"sensor_id\": sensor_id,\n",
    "        \"timestamp\": datetime.now().isoformat(),\n",
    "        \"temperature\": temperature,\n",
    "        \"temperature_f\": round(temperature * 9 / 5 + 32, 2),\n",
    "        \"humidity\": round(random.uniform(40, 70), 2) if random.random() > 0.2 else None,\n",
    "        \"motion_detected\": int(round(random.uniform(0,1),0))\n",
    "    }\n"
   ]
  },
  {
   "cell_type": "code",
   "execution_count": 3,
   "id": "a229536d",
   "metadata": {},
   "outputs": [],
   "source": [
    "# Save data as CSV\n",
    "def save_temperature_humidity_csv(filename, data):\n",
    "    filepath = os.path.join(output_dir, filename)\n",
    "    df = pd.DataFrame(data)\n",
    "    df.to_csv(filepath, mode='w', index=False, header=True)  \n",
    "    print(f\"Saved Temperature & Humidity CSV: {filepath}\")"
   ]
  },
  {
   "cell_type": "code",
   "execution_count": 6,
   "id": "4d686415",
   "metadata": {},
   "outputs": [
    {
     "name": "stdin",
     "output_type": "stream",
     "text": [
      "Enter number of readings to generate:  50\n"
     ]
    },
    {
     "name": "stdout",
     "output_type": "stream",
     "text": [
      "{'sensor_id': 1, 'timestamp': '2025-03-31T15:31:24.473980', 'temperature': 29.59, 'temperature_f': 85.26, 'humidity': 46.27, 'motion_detected': 1}\n",
      "{'sensor_id': 1, 'timestamp': '2025-03-31T15:31:24.474146', 'temperature': 19.37, 'temperature_f': 66.87, 'humidity': 49.63, 'motion_detected': 1}\n",
      "{'sensor_id': 1, 'timestamp': '2025-03-31T15:31:24.474196', 'temperature': 25.16, 'temperature_f': 77.29, 'humidity': 62.82, 'motion_detected': 1}\n",
      "{'sensor_id': 1, 'timestamp': '2025-03-31T15:31:24.474235', 'temperature': 21.05, 'temperature_f': 69.89, 'humidity': None, 'motion_detected': 1}\n",
      "{'sensor_id': 1, 'timestamp': '2025-03-31T15:31:24.474235', 'temperature': 21.05, 'temperature_f': 69.89, 'humidity': None, 'motion_detected': 1}\n",
      "{'sensor_id': 1, 'timestamp': '2025-03-31T15:31:24.474290', 'temperature': 21.66, 'temperature_f': 70.99, 'humidity': 53.77, 'motion_detected': 0}\n",
      "{'sensor_id': 1, 'timestamp': '2025-03-31T15:31:24.474325', 'temperature': 22.52, 'temperature_f': 72.54, 'humidity': 40.66, 'motion_detected': 0}\n",
      "{'sensor_id': 1, 'timestamp': '2025-03-31T15:31:24.474358', 'temperature': 18.12, 'temperature_f': 64.62, 'humidity': 42.52, 'motion_detected': 0}\n",
      "{'sensor_id': 1, 'timestamp': '2025-03-31T15:31:24.474358', 'temperature': 18.12, 'temperature_f': 64.62, 'humidity': 42.52, 'motion_detected': 0}\n",
      "{'sensor_id': 1, 'timestamp': '2025-03-31T15:31:24.474409', 'temperature': 26.8, 'temperature_f': 80.24, 'humidity': 64.06, 'motion_detected': 1}\n",
      "{'sensor_id': 1, 'timestamp': '2025-03-31T15:31:24.474441', 'temperature': 21.22, 'temperature_f': 70.2, 'humidity': 67.7, 'motion_detected': 0}\n",
      "{'sensor_id': 1, 'timestamp': '2025-03-31T15:31:24.474474', 'temperature': 20.43, 'temperature_f': 68.77, 'humidity': 42.66, 'motion_detected': 0}\n",
      "{'sensor_id': 1, 'timestamp': '2025-03-31T15:31:24.474474', 'temperature': 20.43, 'temperature_f': 68.77, 'humidity': 42.66, 'motion_detected': 0}\n",
      "{'sensor_id': 1, 'timestamp': '2025-03-31T15:31:24.474523', 'temperature': 27.44, 'temperature_f': 81.39, 'humidity': 68.89, 'motion_detected': 0}\n",
      "{'sensor_id': 1, 'timestamp': '2025-03-31T15:31:24.474554', 'temperature': 23.93, 'temperature_f': 75.07, 'humidity': 64.72, 'motion_detected': 1}\n",
      "{'sensor_id': 1, 'timestamp': '2025-03-31T15:31:24.474587', 'temperature': 18.31, 'temperature_f': 64.96, 'humidity': 60.13, 'motion_detected': 0}\n",
      "{'sensor_id': 1, 'timestamp': '2025-03-31T15:31:24.474587', 'temperature': 18.31, 'temperature_f': 64.96, 'humidity': 60.13, 'motion_detected': 0}\n",
      "{'sensor_id': 1, 'timestamp': '2025-03-31T15:31:24.474636', 'temperature': 20.52, 'temperature_f': 68.94, 'humidity': 51.1, 'motion_detected': 1}\n",
      "{'sensor_id': 1, 'timestamp': '2025-03-31T15:31:24.474668', 'temperature': 18.09, 'temperature_f': 64.56, 'humidity': 40.79, 'motion_detected': 0}\n",
      "{'sensor_id': 1, 'timestamp': '2025-03-31T15:31:24.474699', 'temperature': 19.16, 'temperature_f': 66.49, 'humidity': 58.33, 'motion_detected': 1}\n",
      "{'sensor_id': 1, 'timestamp': '2025-03-31T15:31:24.474699', 'temperature': 19.16, 'temperature_f': 66.49, 'humidity': 58.33, 'motion_detected': 1}\n",
      "{'sensor_id': 1, 'timestamp': '2025-03-31T15:31:24.474747', 'temperature': 22.56, 'temperature_f': 72.61, 'humidity': None, 'motion_detected': 1}\n",
      "{'sensor_id': 1, 'timestamp': '2025-03-31T15:31:24.474777', 'temperature': 19.79, 'temperature_f': 67.62, 'humidity': 42.1, 'motion_detected': 0}\n",
      "{'sensor_id': 1, 'timestamp': '2025-03-31T15:31:24.474808', 'temperature': 23.07, 'temperature_f': 73.53, 'humidity': None, 'motion_detected': 0}\n",
      "{'sensor_id': 1, 'timestamp': '2025-03-31T15:31:24.474808', 'temperature': 23.07, 'temperature_f': 73.53, 'humidity': None, 'motion_detected': 0}\n",
      "{'sensor_id': 1, 'timestamp': '2025-03-31T15:31:24.474856', 'temperature': 24.39, 'temperature_f': 75.9, 'humidity': 41.14, 'motion_detected': 0}\n",
      "{'sensor_id': 1, 'timestamp': '2025-03-31T15:31:24.474887', 'temperature': 20.14, 'temperature_f': 68.25, 'humidity': 67.06, 'motion_detected': 0}\n",
      "{'sensor_id': 1, 'timestamp': '2025-03-31T15:31:24.474921', 'temperature': 28.36, 'temperature_f': 83.05, 'humidity': None, 'motion_detected': 0}\n",
      "{'sensor_id': 1, 'timestamp': '2025-03-31T15:31:24.474921', 'temperature': 28.36, 'temperature_f': 83.05, 'humidity': None, 'motion_detected': 0}\n",
      "{'sensor_id': 1, 'timestamp': '2025-03-31T15:31:24.474968', 'temperature': 25.8, 'temperature_f': 78.44, 'humidity': 45.67, 'motion_detected': 1}\n",
      "{'sensor_id': 1, 'timestamp': '2025-03-31T15:31:24.474999', 'temperature': 22.98, 'temperature_f': 73.36, 'humidity': 56.61, 'motion_detected': 0}\n",
      "{'sensor_id': 1, 'timestamp': '2025-03-31T15:31:24.475032', 'temperature': 27.17, 'temperature_f': 80.91, 'humidity': 49.63, 'motion_detected': 0}\n",
      "{'sensor_id': 1, 'timestamp': '2025-03-31T15:31:24.475032', 'temperature': 27.17, 'temperature_f': 80.91, 'humidity': 49.63, 'motion_detected': 0}\n",
      "{'sensor_id': 1, 'timestamp': '2025-03-31T15:31:24.475079', 'temperature': 18.34, 'temperature_f': 65.01, 'humidity': 52.79, 'motion_detected': 0}\n",
      "{'sensor_id': 1, 'timestamp': '2025-03-31T15:31:24.475109', 'temperature': 24.89, 'temperature_f': 76.8, 'humidity': 47.31, 'motion_detected': 1}\n",
      "{'sensor_id': 1, 'timestamp': '2025-03-31T15:31:24.475139', 'temperature': 29.51, 'temperature_f': 85.12, 'humidity': 50.06, 'motion_detected': 1}\n",
      "{'sensor_id': 1, 'timestamp': '2025-03-31T15:31:24.475139', 'temperature': 29.51, 'temperature_f': 85.12, 'humidity': 50.06, 'motion_detected': 1}\n",
      "{'sensor_id': 1, 'timestamp': '2025-03-31T15:31:24.475187', 'temperature': 18.69, 'temperature_f': 65.64, 'humidity': None, 'motion_detected': 1}\n",
      "{'sensor_id': 1, 'timestamp': '2025-03-31T15:31:24.475216', 'temperature': 19.57, 'temperature_f': 67.23, 'humidity': 51.09, 'motion_detected': 1}\n",
      "{'sensor_id': 1, 'timestamp': '2025-03-31T15:31:24.475247', 'temperature': 25.76, 'temperature_f': 78.37, 'humidity': 46.72, 'motion_detected': 0}\n",
      "{'sensor_id': 1, 'timestamp': '2025-03-31T15:31:24.475247', 'temperature': 25.76, 'temperature_f': 78.37, 'humidity': 46.72, 'motion_detected': 0}\n",
      "{'sensor_id': 1, 'timestamp': '2025-03-31T15:31:24.475295', 'temperature': 23.31, 'temperature_f': 73.96, 'humidity': None, 'motion_detected': 0}\n",
      "{'sensor_id': 1, 'timestamp': '2025-03-31T15:31:24.475324', 'temperature': 25.49, 'temperature_f': 77.88, 'humidity': 62.74, 'motion_detected': 1}\n",
      "{'sensor_id': 1, 'timestamp': '2025-03-31T15:31:24.475354', 'temperature': 27.96, 'temperature_f': 82.33, 'humidity': 52.37, 'motion_detected': 0}\n",
      "{'sensor_id': 1, 'timestamp': '2025-03-31T15:31:24.475354', 'temperature': 27.96, 'temperature_f': 82.33, 'humidity': 52.37, 'motion_detected': 0}\n",
      "{'sensor_id': 1, 'timestamp': '2025-03-31T15:31:24.475400', 'temperature': 22.08, 'temperature_f': 71.74, 'humidity': None, 'motion_detected': 0}\n",
      "{'sensor_id': 1, 'timestamp': '2025-03-31T15:31:24.475430', 'temperature': 29.79, 'temperature_f': 85.62, 'humidity': 65.98, 'motion_detected': 1}\n",
      "{'sensor_id': 1, 'timestamp': '2025-03-31T15:31:24.475460', 'temperature': 23.6, 'temperature_f': 74.48, 'humidity': 51.76, 'motion_detected': 0}\n",
      "{'sensor_id': 1, 'timestamp': '2025-03-31T15:31:24.475460', 'temperature': 23.6, 'temperature_f': 74.48, 'humidity': 51.76, 'motion_detected': 0}\n",
      "{'sensor_id': 1, 'timestamp': '2025-03-31T15:31:24.475509', 'temperature': 27.14, 'temperature_f': 80.85, 'humidity': None, 'motion_detected': 1}\n",
      "{'sensor_id': 1, 'timestamp': '2025-03-31T15:31:24.475538', 'temperature': 25.19, 'temperature_f': 77.34, 'humidity': 65.28, 'motion_detected': 0}\n",
      "{'sensor_id': 1, 'timestamp': '2025-03-31T15:31:24.475569', 'temperature': 25.69, 'temperature_f': 78.24, 'humidity': 53.44, 'motion_detected': 1}\n",
      "{'sensor_id': 1, 'timestamp': '2025-03-31T15:31:24.475569', 'temperature': 25.69, 'temperature_f': 78.24, 'humidity': 53.44, 'motion_detected': 1}\n",
      "{'sensor_id': 1, 'timestamp': '2025-03-31T15:31:24.475617', 'temperature': 18.86, 'temperature_f': 65.95, 'humidity': 65.63, 'motion_detected': 1}\n",
      "{'sensor_id': 1, 'timestamp': '2025-03-31T15:31:24.475648', 'temperature': 21.55, 'temperature_f': 70.79, 'humidity': 69.21, 'motion_detected': 0}\n",
      "{'sensor_id': 1, 'timestamp': '2025-03-31T15:31:24.475679', 'temperature': 26.76, 'temperature_f': 80.17, 'humidity': 52.6, 'motion_detected': 1}\n",
      "{'sensor_id': 1, 'timestamp': '2025-03-31T15:31:24.475679', 'temperature': 26.76, 'temperature_f': 80.17, 'humidity': 52.6, 'motion_detected': 1}\n",
      "{'sensor_id': 1, 'timestamp': '2025-03-31T15:31:24.475726', 'temperature': 29.67, 'temperature_f': 85.41, 'humidity': 44.86, 'motion_detected': 1}\n",
      "{'sensor_id': 1, 'timestamp': '2025-03-31T15:31:24.475756', 'temperature': 23.34, 'temperature_f': 74.01, 'humidity': 67.31, 'motion_detected': 1}\n",
      "{'sensor_id': 1, 'timestamp': '2025-03-31T15:31:24.475786', 'temperature': 29.8, 'temperature_f': 85.64, 'humidity': 61.32, 'motion_detected': 0}\n",
      "{'sensor_id': 1, 'timestamp': '2025-03-31T15:31:24.475786', 'temperature': 29.8, 'temperature_f': 85.64, 'humidity': 61.32, 'motion_detected': 0}\n",
      "{'sensor_id': 1, 'timestamp': '2025-03-31T15:31:24.475833', 'temperature': 26.34, 'temperature_f': 79.41, 'humidity': None, 'motion_detected': 1}\n",
      "{'sensor_id': 1, 'timestamp': '2025-03-31T15:31:24.475864', 'temperature': 24.45, 'temperature_f': 76.01, 'humidity': 45.05, 'motion_detected': 1}\n",
      "{'sensor_id': 1, 'timestamp': '2025-03-31T15:31:24.475895', 'temperature': 29.83, 'temperature_f': 85.69, 'humidity': 58.97, 'motion_detected': 1}\n",
      "{'sensor_id': 1, 'timestamp': '2025-03-31T15:31:24.475895', 'temperature': 29.83, 'temperature_f': 85.69, 'humidity': 58.97, 'motion_detected': 1}\n",
      "{'sensor_id': 1, 'timestamp': '2025-03-31T15:31:24.475941', 'temperature': 29.34, 'temperature_f': 84.81, 'humidity': 53.97, 'motion_detected': 0}\n",
      "Saved Temperature & Humidity CSV: sensor_data/json/temperature_humidity.csv\n",
      "JSON data written to temperature_humidity_data.json\n"
     ]
    }
   ],
   "source": [
    "\n",
    "# User input for number of times to run\n",
    "num_iterations = int(input(\"Enter number of readings to generate: \"))\n",
    "\n",
    "temperature_humidity_sensor_data = []\n",
    "# Generate and save sensor data\n",
    "for i in range(num_iterations):\n",
    "    temperature_humidity_data = generate_temperature_humidity_data()\n",
    "    temperature_humidity_sensor_data.append(temperature_humidity_data)\n",
    "    print(temperature_humidity_data)\n",
    "    # time.sleep(1)\n",
    "\n",
    "    # Adda a duplicate a t every 3rd reading\n",
    "    if i % 3 == 0 and i != 0:\n",
    "        temperature_humidity_sensor_data.append(temperature_humidity_data)\n",
    "        print(temperature_humidity_data)\n",
    "\n",
    "save_temperature_humidity_csv(\"temperature_humidity.csv\", temperature_humidity_sensor_data)\n",
    "\n",
    "filename = \"temperature_humidity_data.json\"\n",
    "filepath = os.path.join(output_dir, filename)\n",
    "try:\n",
    "    filedata = json.load(open(filename))\n",
    "    filedata.append(temperature_humidity_data)\n",
    "except:\n",
    "    filedata = []\n",
    "\n",
    "with open(filepath, mode='w') as json_file:\n",
    "    # writer = csv.writer(file)\n",
    "    # json_file.write('[')\n",
    "    # json.(temperature_humidity_data, json_file, indent=4)\n",
    "    json.dump(filedata, json_file, indent=4)\n",
    "    # json_file.write(']')\n",
    "\n",
    "    # Write all data at once\n",
    "    #writer.writerows(data)\n",
    "json_file.close\n",
    "# Close the file \n",
    "print(f'JSON data written to {filename}')"
   ]
  },
  {
   "cell_type": "code",
   "execution_count": 7,
   "id": "51c84833-244b-4f32-903c-d2709a7c30d4",
   "metadata": {},
   "outputs": [
    {
     "name": "stdout",
     "output_type": "stream",
     "text": [
      "Saved Temperature & Humidity CSV: sensor_data/json/temperature_humidity_errors.csv\n",
      "Saved Temperature & Humidity CSV: sensor_data/json/temperature_humidity.csv\n"
     ]
    }
   ],
   "source": [
    "df = pd.DataFrame(temperature_humidity_sensor_data)\n",
    "\n",
    "save_temperature_humidity_csv(\"temperature_humidity_errors.csv\", df)\n",
    "\n",
    "df = df.drop_duplicates()\n",
    "\n",
    "save_temperature_humidity_csv(\"temperature_humidity.csv\", df)"
   ]
  },
  {
   "cell_type": "code",
   "execution_count": 8,
   "id": "8e2a5b02-96df-44a1-a6b9-031c59c606e5",
   "metadata": {},
   "outputs": [],
   "source": [
    "# missing_values = df.isnull().sum()\n",
    "\n",
    "# if missing_values.sum() > 0:\n",
    "#     missing_columns = missing_values[missing_values > 0].index.tolist()\n",
    "#     print(\"\\nColumns with missing values:\", missing_columns)\n",
    "#     df = df.dropna()\n",
    "#     print(\"\\nDropped rows with missing values.\")"
   ]
  },
  {
   "cell_type": "code",
   "execution_count": 12,
   "id": "4a074e91-d738-48ed-ae9f-0152fb203e20",
   "metadata": {},
   "outputs": [],
   "source": [
    "def impute_missing_values(df, strategy='mean'): \n",
    "    if strategy == 'mean':\n",
    "        df['humidity'] = df['humidity'].fillna(df['humidity'].mean()).round()\n",
    "    elif strategy == 'median':\n",
    "        df['humidity'] = df['humidity'].fillna(df['humidity'].median()).round()\n",
    "    elif strategy == 'mode':\n",
    "        df['humidity'] = df['humidity'].fillna(df['humidity'].mode()).round()\n",
    "    elif strategy == 'regression':\n",
    "        hum_train = df.dropna(subset=['humidity'])\n",
    "        model = LinearRegression()\n",
    "        model.fit(hum_train[['temperature']], hum_train['humidity'])\n",
    "        hum_missing = df[df['humidity'].isnull()]\n",
    "        df.loc[df['humidity'].isnull(), 'humidity'] = model.predict(hum_missing[['temperature']])\n",
    "    return df"
   ]
  },
  {
   "cell_type": "code",
   "execution_count": 13,
   "id": "b2eafb86-e50a-439f-a93f-c6540105a098",
   "metadata": {},
   "outputs": [],
   "source": [
    "df = impute_missing_values(df, strategy='median')"
   ]
  },
  {
   "cell_type": "code",
   "execution_count": 14,
   "id": "262d8d7c-b447-4241-bbde-920c6f9af0b3",
   "metadata": {},
   "outputs": [
    {
     "name": "stdout",
     "output_type": "stream",
     "text": [
      "Saved Temperature & Humidity CSV: sensor_data/json/temperature_humidity.csv\n"
     ]
    }
   ],
   "source": [
    "save_temperature_humidity_csv(\"temperature_humidity.csv\", df)"
   ]
  },
  {
   "cell_type": "code",
   "execution_count": null,
   "id": "43dba94d-0948-4e5a-b3bd-aea9f62ca5a3",
   "metadata": {},
   "outputs": [],
   "source": []
  }
 ],
 "metadata": {
  "kernelspec": {
   "display_name": "Python 3 (ipykernel)",
   "language": "python",
   "name": "python3"
  },
  "language_info": {
   "codemirror_mode": {
    "name": "ipython",
    "version": 3
   },
   "file_extension": ".py",
   "mimetype": "text/x-python",
   "name": "python",
   "nbconvert_exporter": "python",
   "pygments_lexer": "ipython3",
   "version": "3.13.2"
  }
 },
 "nbformat": 4,
 "nbformat_minor": 5
}
