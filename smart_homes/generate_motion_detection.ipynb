{
 "cells": [
  {
   "cell_type": "code",
   "execution_count": 5,
   "id": "b768b19f",
   "metadata": {},
   "outputs": [],
   "source": [
    "import os\n",
    "import json\n",
    "import random\n",
    "import time\n",
    "from datetime import datetime\n",
    "\n",
    "# Create output directory\n",
    "output_dir = \"sensor_data/xml\"\n",
    "os.makedirs(output_dir, exist_ok=True)\n"
   ]
  },
  {
   "cell_type": "code",
   "execution_count": 6,
   "id": "606bceaf",
   "metadata": {},
   "outputs": [],
   "source": [
    "\n",
    "# Function to generate random motion detection data\n",
    "def generate_motion_detection_data(sensor_id=2):\n",
    "    return {\n",
    "        \"sensor_id\": sensor_id,\n",
    "        \"timestamp\": datetime.now().isoformat(),\n",
    "        \"motion_detected\": random.choice([True, False])\n",
    "    }\n",
    "\n",
    "# Function to save data as JSON\n",
    "def save_motion_json(filename, data):\n",
    "    filepath = os.path.join(output_dir, filename)\n",
    "    with open(filepath, \"w\") as file:\n",
    "        json.dump(data, file, indent=4)\n",
    "        file.write(\"\\n\")\n",
    "    print(f\"Saved Motion Detection JSON: {filepath}\")\n"
   ]
  },
  {
   "cell_type": "code",
   "execution_count": 7,
   "id": "6450eb89",
   "metadata": {},
   "outputs": [
    {
     "name": "stdin",
     "output_type": "stream",
     "text": [
      "Enter number of motion detection readings to generate:  2\n"
     ]
    },
    {
     "name": "stdout",
     "output_type": "stream",
     "text": [
      "{'sensor_id': 2, 'timestamp': '2025-03-25T13:51:18.313643', 'motion_detected': False}\n",
      "{'sensor_id': 2, 'timestamp': '2025-03-25T13:51:19.313949', 'motion_detected': True}\n",
      "Saved Motion Detection JSON: sensor_data/xml/motion_detection.json\n"
     ]
    }
   ],
   "source": [
    "\n",
    "# User input for number of times to run\n",
    "num_iterations = int(input(\"Enter number of motion detection readings to generate: \"))\n",
    "\n",
    "# Generate multiple batches of motion data\n",
    "movements = []\n",
    "for i in range(num_iterations):\n",
    "    motion_data = generate_motion_detection_data()\n",
    "    print(motion_data)\n",
    "    movements.append(motion_data)\n",
    "    time.sleep(1)  # Simulate real-time data generation\n",
    "\n",
    "# Save all motion data as a single JSON array\n",
    "save_motion_json(\"motion_detection.json\", movements)"
   ]
  },
  {
   "cell_type": "code",
   "execution_count": null,
   "id": "fec0977f-05a1-43f0-b1eb-04cea1d14a14",
   "metadata": {},
   "outputs": [],
   "source": []
  }
 ],
 "metadata": {
  "kernelspec": {
   "display_name": "Python 3 (ipykernel)",
   "language": "python",
   "name": "python3"
  },
  "language_info": {
   "codemirror_mode": {
    "name": "ipython",
    "version": 3
   },
   "file_extension": ".py",
   "mimetype": "text/x-python",
   "name": "python",
   "nbconvert_exporter": "python",
   "pygments_lexer": "ipython3",
   "version": "3.13.2"
  }
 },
 "nbformat": 4,
 "nbformat_minor": 5
}
